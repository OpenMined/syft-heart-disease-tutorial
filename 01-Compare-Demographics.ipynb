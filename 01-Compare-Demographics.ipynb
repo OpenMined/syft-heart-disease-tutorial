{
 "cells": [
  {
   "cell_type": "markdown",
   "id": "9bc2bb29-2d6c-4928-bd2b-55c64b9888f1",
   "metadata": {
    "editable": true,
    "slideshow": {
     "slide_type": ""
    },
    "tags": []
   },
   "source": [
    "# Compare Demographics across the four Datasites"
   ]
  },
  {
   "cell_type": "markdown",
   "id": "5c11bd93-8f28-4c07-a1b8-6cde0c40101f",
   "metadata": {},
   "source": [
    "As our first step in our analyses, we want to collect information about the demographics in each dataset.\n",
    "\n",
    "> 💡 This information is crucial to understand possible differences in data distributions, and therefore how data\n",
    "varies across the four Hospitals! (another good reason to appreciate the benefits from working with **more data**).\n",
    "\n",
    "Naturally, we can't collect this information from _mock_ data! But we can use mock to prepare our code. Afterwards, we will send a request on each datasite to gather the **true** statistics we're interested in."
   ]
  },
  {
   "cell_type": "markdown",
   "id": "b91ff066-c2d4-47bd-9138-6f8e9093046b",
   "metadata": {},
   "source": [
    "## Step 1. Login to datasites as **External Researcher**"
   ]
  },
  {
   "cell_type": "markdown",
   "id": "8a48bea5-24a6-490b-be39-8544197c4f2a",
   "metadata": {},
   "source": [
    "⚠️ First verify that the Datasites are already running. If needed, launch the following command in a new terminal session:\n",
    "\n",
    "```bash\n",
    "$ python launch_datasites.py\n",
    "```\n",
    "\n",
    "**Note**: In Jupyter Lab, you can open a new terminal session via `File >> New >> Terminal`"
   ]
  },
  {
   "cell_type": "code",
   "execution_count": null,
   "id": "6de403be-485c-46a4-ac84-0ea22378aa34",
   "metadata": {},
   "outputs": [],
   "source": [
    "import syft as sy"
   ]
  },
  {
   "cell_type": "code",
   "execution_count": null,
   "id": "5cc70d76-68c9-4a03-98c7-0a0eb2851eee",
   "metadata": {},
   "outputs": [],
   "source": [
    "from datasites import DATASITE_URLS\n",
    "\n",
    "datasites = {}\n",
    "for name, url in DATASITE_URLS.items():\n",
    "    datasites[name] = sy.login(url=url, email=\"researcher@openmined.org\", password=\"****\")"
   ]
  },
  {
   "cell_type": "markdown",
   "id": "c4973479-b835-46b7-9cef-d20d1cdb758f",
   "metadata": {},
   "source": [
    "## Step 2. Get Mock data and prepare your data science code"
   ]
  },
  {
   "cell_type": "code",
   "execution_count": null,
   "id": "e65f936f-e767-413d-91c7-97df46feb819",
   "metadata": {},
   "outputs": [],
   "source": [
    "dataset = datasites[\"Cleveland Clinic\"].datasets[\"Heart Disease Dataset\"]\n",
    "dataset.description"
   ]
  },
  {
   "cell_type": "markdown",
   "id": "0c48a635-c7cd-4f66-90fb-102f48d43f66",
   "metadata": {},
   "source": [
    "_From the dataset description_: the `age`, and `sex` columns corresponds to the demographics in our dataset, while the `num` column is the outcome of the study. "
   ]
  },
  {
   "cell_type": "markdown",
   "id": "20ba72eb-d5fc-4b43-b140-6ea453a09812",
   "metadata": {},
   "source": [
    "Let's download the mock data to start working our code!\n",
    "\n",
    "> 💡 Remeber: Mock data is an _artificially created_ version of the true (non-public) data that is only meant for code prototyping!"
   ]
  },
  {
   "cell_type": "code",
   "execution_count": null,
   "id": "00971650-68b7-4a1d-9c39-2e1ec5213a4c",
   "metadata": {},
   "outputs": [],
   "source": [
    "mock_data = dataset.assets[\"Heart Study Data\"].mock"
   ]
  },
  {
   "cell_type": "code",
   "execution_count": null,
   "id": "671c2b70-3b84-4f5e-86ce-4af3f05eccda",
   "metadata": {},
   "outputs": [],
   "source": [
    "mock_data.head()"
   ]
  },
  {
   "cell_type": "markdown",
   "id": "da10c732-3286-4dd6-ad48-aac95e3b6c57",
   "metadata": {},
   "source": [
    "We can do some `pandas` [**magic**](https://pandas.pydata.org/docs/reference/api/pandas.crosstab.html) to generate statistics about the _disease prevalance_ in the dataset, aggregated by the demographics (`age`, `sex`)"
   ]
  },
  {
   "cell_type": "code",
   "execution_count": null,
   "id": "db487281-2428-487a-93e5-6cadcfa61d67",
   "metadata": {},
   "outputs": [],
   "source": [
    "import pandas as pd\n",
    "\n",
    "def aggregate_factors(data):\n",
    "    \"\"\"Gather demographics categorical factors from data:\n",
    "    - Age will be mapped to three Age Ranges\n",
    "    - New Diagnosis column for binary outcome of the study (and better plotting legends)\n",
    "    - New Sex-Label column to better decode the `sex` column in data.\n",
    "    \"\"\"\n",
    "    info = pd.DataFrame()\n",
    "    info[\"diagnosis\"] = data[\"num\"].map(lambda v: \"present\" if v > 0 else \"absent\")\n",
    "    info[\"sex-label\"] = data[\"sex\"].map({0: \"female\", 1: \"male\"})\n",
    "\n",
    "    age_range = lambda v: \"0-40\" if v < 40 else \"40-65\" if v <= 65 else \"Over 65\"\n",
    "    info[\"age-range\"] = pd.Categorical(data[\"age\"].apply(age_range), \n",
    "                                       categories=[\"0-40\", \"40-65\", \"Over 65\"],\n",
    "                                       ordered=True)\n",
    "    return info\n",
    "\n",
    "def disease_prevalence_per_demographic(data):\n",
    "    cats = aggregate_factors(data)\n",
    "    prevalence_by_demographics = pd.crosstab(\n",
    "        index = cats[\"age-range\"], columns = [cats[\"sex-label\"], cats[\"diagnosis\"]],\n",
    "    )\n",
    "    return prevalence_by_demographics\n",
    "\n",
    "disease_prevalence_per_demographic(mock_data)"
   ]
  },
  {
   "cell_type": "markdown",
   "id": "f9297a62-8049-4639-9746-e620b48a489a",
   "metadata": {},
   "source": [
    "## Step 3. Run code remotely on all datasites"
   ]
  },
  {
   "cell_type": "markdown",
   "id": "261cf7d1-7341-4374-a9a2-df26d0980803",
   "metadata": {},
   "source": [
    "Let's now rewrite our `disease_prevalence_per_demographic` function to be **self-contained**: \n",
    "\n",
    "> All dependencies necessary for the execution must be defined within the body of the function."
   ]
  },
  {
   "cell_type": "code",
   "execution_count": null,
   "id": "5e477019-ba10-42ba-9fb3-a07c9027407d",
   "metadata": {},
   "outputs": [],
   "source": [
    "for name, datasite in datasites.items():\n",
    "    # data asset on the DataSite\n",
    "    data_asset = datasite.datasets[\"Heart Disease Dataset\"].assets[\"Heart Study Data\"]  \n",
    "    \n",
    "    @sy.syft_function_single_use(data=data_asset)\n",
    "    def disease_prevalence_per_demographic(data) -> pd.DataFrame:\n",
    "        # third party dependency\n",
    "        import pandas as pd\n",
    "        \n",
    "        def aggregate_factors():\n",
    "            info = pd.DataFrame()\n",
    "            info[\"diagnosis\"] = data[\"num\"].map(lambda v: \"present\" if v > 0 else \"absent\")\n",
    "            info[\"sex-label\"] = data[\"sex\"].map({0: \"female\", 1: \"male\"})\n",
    "        \n",
    "            age_range = lambda v: \"0-40\" if v < 40 else \"40-65\" if v <= 65 else \"Over 65\"\n",
    "            info[\"age-range\"] = pd.Categorical(\n",
    "                data[\"age\"].apply(age_range),\n",
    "                categories=[\"0-40\", \"40-65\", \"Over 65\"],\n",
    "                ordered=True,\n",
    "            )\n",
    "            return info\n",
    "        \n",
    "        cats = aggregate_factors()\n",
    "        prevalence_by_demographics = pd.crosstab(\n",
    "            index = cats[\"age-range\"], columns = [cats[\"sex-label\"], cats[\"diagnosis\"]],\n",
    "        )\n",
    "        return prevalence_by_demographics\n",
    "\n",
    "    # Submit simple code request\n",
    "    datasite.code.request_code_execution(disease_prevalence_per_demographic)"
   ]
  },
  {
   "cell_type": "code",
   "execution_count": null,
   "id": "b6c72de7-1cc8-47ce-9c77-5bb9fa345250",
   "metadata": {},
   "outputs": [],
   "source": [
    "# Check status of requests\n",
    "from utils import check_status_last_code_requests\n",
    "\n",
    "check_status_last_code_requests(datasites)"
   ]
  },
  {
   "cell_type": "markdown",
   "id": "bf7018ed-bbf1-404c-b7cf-8e0e7ad264d2",
   "metadata": {
    "editable": true,
    "slideshow": {
     "slide_type": ""
    },
    "tags": []
   },
   "source": [
    "🎉 All requests should be all (automatically) `APPROVED`! (_If that's not the case, check again until are all approved_)"
   ]
  },
  {
   "cell_type": "markdown",
   "id": "c3b37a66-19f6-4c99-82fc-14b606e79543",
   "metadata": {},
   "source": [
    "## Step 4. Gather results from all datasites "
   ]
  },
  {
   "cell_type": "code",
   "execution_count": null,
   "id": "f5bde330-59be-4f40-b874-3ed4d1b14172",
   "metadata": {},
   "outputs": [],
   "source": [
    "demographics = {}\n",
    "for name, datasite in datasites.items():\n",
    "    data_asset = datasite.datasets[\"Heart Disease Dataset\"].assets[\"Heart Study Data\"]\n",
    "    data_stats = datasite.code.disease_prevalence_per_demographic(data=data_asset).get_from(datasite) # use .get_from() to download the result\n",
    "    demographics[name] = data_stats"
   ]
  },
  {
   "cell_type": "markdown",
   "id": "65a99e17-5fa8-4d5d-a22a-0d5ea637d9e7",
   "metadata": {
    "editable": true,
    "slideshow": {
     "slide_type": ""
    },
    "tags": []
   },
   "source": [
    "Let's now compare statistics across the **four datasets**, and plot the results for clearer insights and comparisons:"
   ]
  },
  {
   "cell_type": "code",
   "execution_count": null,
   "id": "15f3459e-c29e-4986-9da5-f3bf5c2aa720",
   "metadata": {},
   "outputs": [],
   "source": [
    "# Let's plot the result for better visualisation\n",
    "from matplotlib import pyplot as plt\n",
    "from itertools import product\n",
    "\n",
    "def plot_disease_prevalence(axis, data, name) -> None:\n",
    "    data.plot.bar(ax=axis)\n",
    "    for container in axis.containers:\n",
    "        axis.bar_label(container)\n",
    "    axis.set_ylim([0, 130])\n",
    "    axis.set_title(f\"Disease Prevalence (per Demographic) in {name}\", fontsize = \"medium\")\n",
    "\n",
    "fig, axes = plt.subplots(2, 2, figsize=(10,8))\n",
    "\n",
    "for coords, (name, data) in zip(product(range(2), repeat=2), demographics.items()):\n",
    "    plot_disease_prevalence(axis=axes[coords], data=data, name=name)\n",
    "\n",
    "# Adjust layout to prevent overlap\n",
    "plt.tight_layout()\n",
    "plt.show()\n"
   ]
  },
  {
   "cell_type": "markdown",
   "id": "b9b1ae87-753b-4dcd-b6dd-869b9258bc0a",
   "metadata": {},
   "source": [
    "## Conclusions"
   ]
  },
  {
   "cell_type": "markdown",
   "id": "0ff0d63a-6968-4bef-8bb4-b652bce77b6f",
   "metadata": {},
   "source": [
    "Data distributions across the four datasets/datasites is very different - which means that we may expect different results when training classifiers on each dataset.\n",
    "\n",
    "Moreover, apart from the dataset in the \"Cleveland Clinic\", we have discovered that `age` is **not** likely to be a good indicator for data partitioning, as data is too skew, if combined with other demographics!\n",
    "\n",
    "Let's now continue our analyses with some Machine learning modelling!\n",
    "\n",
    "### Final Remarks\n",
    "\n",
    "In this example, the **true** statistics about the data are returned. This is a fair assumption, considering the data we are working with. However, in more realistic scenarios, additional **PET**s (**P**rivacy **E**nhancing **T**echnologies) could be used to better protect the privacy of the data. In fact, these are exactly the types of query that techniques like [Differential Privacy](https://opendp.org/about) can help with! \n",
    "\n",
    "I will definitely show you how to use `DP` with PySyft in another tutorial! But in the meantime, please feel free to try it yourself, and then send a new [PR](https://github.com/OpenMined/syft-heart-disease-tutorial/pulls) to contribute to this tutorial!"
   ]
  }
 ],
 "metadata": {
  "kernelspec": {
   "display_name": "Python 3 (ipykernel)",
   "language": "python",
   "name": "python3"
  },
  "language_info": {
   "codemirror_mode": {
    "name": "ipython",
    "version": 3
   },
   "file_extension": ".py",
   "mimetype": "text/x-python",
   "name": "python",
   "nbconvert_exporter": "python",
   "pygments_lexer": "ipython3",
   "version": "3.12.3"
  }
 },
 "nbformat": 4,
 "nbformat_minor": 5
}
