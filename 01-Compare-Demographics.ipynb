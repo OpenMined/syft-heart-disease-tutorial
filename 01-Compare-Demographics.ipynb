{
 "cells": [
  {
   "cell_type": "markdown",
   "id": "9bc2bb29-2d6c-4928-bd2b-55c64b9888f1",
   "metadata": {
    "editable": true,
    "slideshow": {
     "slide_type": ""
    },
    "tags": []
   },
   "source": [
    "# Compare Demographics across the four Datasites"
   ]
  },
  {
   "cell_type": "markdown",
   "id": "5c11bd93-8f28-4c07-a1b8-6cde0c40101f",
   "metadata": {},
   "source": [
    "As our first step in our analyses, we want to collect information about the demographics in each dataset.\n",
    "\n",
    "> 💡 This information is crucial to understand possible differences in data distributions, and therefore how data\n",
    "varies across the four Hospitals! (another good reason to appreciate the benefits from working with **more data**).\n",
    "\n",
    "Naturally, we can't collect this information from _mock_ data! But we can use mock to prepare our code. Afterwards, we will send a request on each datasite to gather the **true** statistics we're interested in."
   ]
  },
  {
   "cell_type": "markdown",
   "id": "b91ff066-c2d4-47bd-9138-6f8e9093046b",
   "metadata": {},
   "source": [
    "## Step 1. Login to datasites as **External Researcher**"
   ]
  },
  {
   "cell_type": "markdown",
   "id": "8a48bea5-24a6-490b-be39-8544197c4f2a",
   "metadata": {},
   "source": [
    "Launch Datasites if not running:\n",
    "```bash\n",
    "$ python launch_datasites.py\n",
    "```"
   ]
  },
  {
   "cell_type": "code",
   "execution_count": 1,
   "id": "6de403be-485c-46a4-ac84-0ea22378aa34",
   "metadata": {},
   "outputs": [],
   "source": [
    "import syft as sy"
   ]
  },
  {
   "cell_type": "code",
   "execution_count": 2,
   "id": "5cc70d76-68c9-4a03-98c7-0a0eb2851eee",
   "metadata": {},
   "outputs": [
    {
     "name": "stdout",
     "output_type": "stream",
     "text": [
      "Logged into <Cleveland Clinic: High-side Datasite> as GUEST\n",
      "Logged into <Hungarian Inst. of Cardiology: High-side Datasite> as GUEST\n",
      "Logged into <Univ. Hospitals Zurich and Basel: High-side Datasite> as GUEST\n",
      "Logged into <V.A. Medical Center: High-side Datasite> as GUEST\n"
     ]
    }
   ],
   "source": [
    "from datasites import DATASITE_URLS\n",
    "\n",
    "datasites = {}\n",
    "for name, url in DATASITE_URLS.items():\n",
    "    datasites[name] = sy.login_as_guest(url=url)"
   ]
  },
  {
   "cell_type": "markdown",
   "id": "c4973479-b835-46b7-9cef-d20d1cdb758f",
   "metadata": {},
   "source": [
    "## Step 2. Get Mock data and prepare your data science code"
   ]
  },
  {
   "cell_type": "code",
   "execution_count": 3,
   "id": "e65f936f-e767-413d-91c7-97df46feb819",
   "metadata": {},
   "outputs": [
    {
     "data": {
      "text/html": [
       "\n",
       "        <style>\n",
       "            .jp-RenderedHTMLCommon pre {\n",
       "                background-color: #282c34 !important;\n",
       "                padding: 10px 10px 10px;\n",
       "            }\n",
       "            .jp-RenderedHTMLCommon pre code {\n",
       "                background-color: #282c34 !important;  /* Set the background color for the text in the code block */\n",
       "                color: #abb2bf !important;  /* Set text color */\n",
       "            }\n",
       "        </style>\n",
       "        "
      ],
      "text/plain": [
       "<IPython.core.display.HTML object>"
      ]
     },
     "metadata": {},
     "output_type": "display_data"
    },
    {
     "data": {
      "text/markdown": [
       "\n",
       "## Heart Disease Dataset\n",
       "\n",
       "**Institute**: Clevelan Clinic, Ohio (USA)\n",
       "\n",
       "**Descriptive Statistics** (demographics removed):\n",
       "\n",
       "|       |         cp |   trestbps |     chol |        fbs |    restecg |   thalach |      exang |   oldpeak |      slope |         ca |      thal |        num |\n",
       "|:------|-----------:|-----------:|---------:|-----------:|-----------:|----------:|-----------:|----------:|-----------:|-----------:|----------:|-----------:|\n",
       "| count | 303        |   303      | 303      | 303        | 303        |   303     | 303        | 303       | 303        | 299        | 301       | 303        |\n",
       "| mean  |   3.15842  |   131.69   | 246.693  |   0.148515 |   0.990099 |   149.607 |   0.326733 |   1.0396  |   1.60066  |   0.672241 |   4.73422 |   0.937294 |\n",
       "| std   |   0.960126 |    17.5997 |  51.7769 |   0.356198 |   0.994971 |    22.875 |   0.469794 |   1.16108 |   0.616226 |   0.937438 |   1.93971 |   1.22854  |\n",
       "| min   |   1        |    94      | 126      |   0        |   0        |    71     |   0        |   0       |   1        |   0        |   3       |   0        |\n",
       "| 25%   |   3        |   120      | 211      |   0        |   0        |   133.5   |   0        |   0       |   1        |   0        |   3       |   0        |\n",
       "| 50%   |   3        |   130      | 241      |   0        |   1        |   153     |   0        |   0.8     |   2        |   0        |   3       |   0        |\n",
       "| 75%   |   4        |   140      | 275      |   0        |   2        |   166     |   1        |   1.6     |   2        |   1        |   7       |   2        |\n",
       "| max   |   4        |   200      | 564      |   1        |   2        |   202     |   1        |   6.2     |   3        |   3        |   7       |   4        |\n",
       "\n",
       "**Demographics**:\n",
       "\n",
       "- `age`: Integer, _age in years_\n",
       "- `sex`: Categorical, `1 = male; 0 = female`\n",
       "\n",
       "**Outcome**:\n",
       "\n",
       "- `num`: Integer, _Angiographic Disease Status_\n",
       "    - Diagnosis: Absence (`num = 0`); Presence (`num &gt; 0`) \n"
      ],
      "text/plain": [
       "syft.util.misc_objs.MarkdownDescription"
      ]
     },
     "execution_count": 3,
     "metadata": {},
     "output_type": "execute_result"
    }
   ],
   "source": [
    "dataset = datasites[\"Cleveland Clinic\"].datasets[\"Heart Disease Dataset\"]\n",
    "dataset.description"
   ]
  },
  {
   "cell_type": "markdown",
   "id": "0c48a635-c7cd-4f66-90fb-102f48d43f66",
   "metadata": {},
   "source": [
    "_From the dataset description_: the `age`, and `sex` columns corresponds to the demographics in our dataset, while the `num` column is the outcome of the study. "
   ]
  },
  {
   "cell_type": "markdown",
   "id": "20ba72eb-d5fc-4b43-b140-6ea453a09812",
   "metadata": {},
   "source": [
    "Let's download the mock data to start working our code!\n",
    "\n",
    "> 💡 Remeber: Mock data is an _artificially created_ version of the true (non-public) data that is only meant for code prototyping!"
   ]
  },
  {
   "cell_type": "code",
   "execution_count": 4,
   "id": "00971650-68b7-4a1d-9c39-2e1ec5213a4c",
   "metadata": {},
   "outputs": [],
   "source": [
    "mock_data = dataset.assets[\"Heart Study Data\"].mock"
   ]
  },
  {
   "cell_type": "code",
   "execution_count": 5,
   "id": "671c2b70-3b84-4f5e-86ce-4af3f05eccda",
   "metadata": {},
   "outputs": [
    {
     "data": {
      "text/html": [
       "<div>\n",
       "<style scoped>\n",
       "    .dataframe tbody tr th:only-of-type {\n",
       "        vertical-align: middle;\n",
       "    }\n",
       "\n",
       "    .dataframe tbody tr th {\n",
       "        vertical-align: top;\n",
       "    }\n",
       "\n",
       "    .dataframe thead th {\n",
       "        text-align: right;\n",
       "    }\n",
       "</style>\n",
       "<table border=\"1\" class=\"dataframe\">\n",
       "  <thead>\n",
       "    <tr style=\"text-align: right;\">\n",
       "      <th></th>\n",
       "      <th>age</th>\n",
       "      <th>sex</th>\n",
       "      <th>cp</th>\n",
       "      <th>trestbps</th>\n",
       "      <th>chol</th>\n",
       "      <th>fbs</th>\n",
       "      <th>restecg</th>\n",
       "      <th>thalach</th>\n",
       "      <th>exang</th>\n",
       "      <th>oldpeak</th>\n",
       "      <th>slope</th>\n",
       "      <th>ca</th>\n",
       "      <th>thal</th>\n",
       "      <th>num</th>\n",
       "    </tr>\n",
       "  </thead>\n",
       "  <tbody>\n",
       "    <tr>\n",
       "      <th>0</th>\n",
       "      <td>70</td>\n",
       "      <td>1</td>\n",
       "      <td>4</td>\n",
       "      <td>85</td>\n",
       "      <td>527</td>\n",
       "      <td>0</td>\n",
       "      <td>1</td>\n",
       "      <td>80</td>\n",
       "      <td>0</td>\n",
       "      <td>4.7</td>\n",
       "      <td>3</td>\n",
       "      <td>1.0</td>\n",
       "      <td>7.0</td>\n",
       "      <td>0</td>\n",
       "    </tr>\n",
       "    <tr>\n",
       "      <th>1</th>\n",
       "      <td>66</td>\n",
       "      <td>1</td>\n",
       "      <td>4</td>\n",
       "      <td>85</td>\n",
       "      <td>563</td>\n",
       "      <td>0</td>\n",
       "      <td>0</td>\n",
       "      <td>94</td>\n",
       "      <td>0</td>\n",
       "      <td>-1.7</td>\n",
       "      <td>1</td>\n",
       "      <td>2.0</td>\n",
       "      <td>3.0</td>\n",
       "      <td>2</td>\n",
       "    </tr>\n",
       "    <tr>\n",
       "      <th>2</th>\n",
       "      <td>69</td>\n",
       "      <td>1</td>\n",
       "      <td>3</td>\n",
       "      <td>92</td>\n",
       "      <td>186</td>\n",
       "      <td>1</td>\n",
       "      <td>0</td>\n",
       "      <td>160</td>\n",
       "      <td>1</td>\n",
       "      <td>1.3</td>\n",
       "      <td>1</td>\n",
       "      <td>0.0</td>\n",
       "      <td>7.0</td>\n",
       "      <td>2</td>\n",
       "    </tr>\n",
       "    <tr>\n",
       "      <th>3</th>\n",
       "      <td>32</td>\n",
       "      <td>0</td>\n",
       "      <td>1</td>\n",
       "      <td>165</td>\n",
       "      <td>161</td>\n",
       "      <td>0</td>\n",
       "      <td>1</td>\n",
       "      <td>60</td>\n",
       "      <td>1</td>\n",
       "      <td>1.6</td>\n",
       "      <td>2</td>\n",
       "      <td>1.0</td>\n",
       "      <td>7.0</td>\n",
       "      <td>0</td>\n",
       "    </tr>\n",
       "    <tr>\n",
       "      <th>4</th>\n",
       "      <td>5</td>\n",
       "      <td>1</td>\n",
       "      <td>4</td>\n",
       "      <td>134</td>\n",
       "      <td>318</td>\n",
       "      <td>0</td>\n",
       "      <td>0</td>\n",
       "      <td>204</td>\n",
       "      <td>1</td>\n",
       "      <td>1.0</td>\n",
       "      <td>2</td>\n",
       "      <td>0.0</td>\n",
       "      <td>3.0</td>\n",
       "      <td>2</td>\n",
       "    </tr>\n",
       "  </tbody>\n",
       "</table>\n",
       "</div>"
      ],
      "text/plain": [
       "   age  sex  cp  trestbps  chol  fbs  restecg  thalach  exang  oldpeak  slope  \\\n",
       "0   70    1   4        85   527    0        1       80      0      4.7      3   \n",
       "1   66    1   4        85   563    0        0       94      0     -1.7      1   \n",
       "2   69    1   3        92   186    1        0      160      1      1.3      1   \n",
       "3   32    0   1       165   161    0        1       60      1      1.6      2   \n",
       "4    5    1   4       134   318    0        0      204      1      1.0      2   \n",
       "\n",
       "    ca  thal  num  \n",
       "0  1.0   7.0    0  \n",
       "1  2.0   3.0    2  \n",
       "2  0.0   7.0    2  \n",
       "3  1.0   7.0    0  \n",
       "4  0.0   3.0    2  "
      ]
     },
     "execution_count": 5,
     "metadata": {},
     "output_type": "execute_result"
    }
   ],
   "source": [
    "mock_data.head()"
   ]
  },
  {
   "cell_type": "markdown",
   "id": "da10c732-3286-4dd6-ad48-aac95e3b6c57",
   "metadata": {},
   "source": [
    "We can do some `pandas` [**magic**](https://pandas.pydata.org/docs/reference/api/pandas.crosstab.html) to generate statistics about the _disease prevalance_ in the dataset, aggregated by the demographics (`age`, `sex`)"
   ]
  },
  {
   "cell_type": "code",
   "execution_count": 6,
   "id": "db487281-2428-487a-93e5-6cadcfa61d67",
   "metadata": {},
   "outputs": [
    {
     "data": {
      "text/html": [
       "<div>\n",
       "<style scoped>\n",
       "    .dataframe tbody tr th:only-of-type {\n",
       "        vertical-align: middle;\n",
       "    }\n",
       "\n",
       "    .dataframe tbody tr th {\n",
       "        vertical-align: top;\n",
       "    }\n",
       "\n",
       "    .dataframe thead tr th {\n",
       "        text-align: left;\n",
       "    }\n",
       "\n",
       "    .dataframe thead tr:last-of-type th {\n",
       "        text-align: right;\n",
       "    }\n",
       "</style>\n",
       "<table border=\"1\" class=\"dataframe\">\n",
       "  <thead>\n",
       "    <tr>\n",
       "      <th>sex-label</th>\n",
       "      <th colspan=\"2\" halign=\"left\">female</th>\n",
       "      <th colspan=\"2\" halign=\"left\">male</th>\n",
       "    </tr>\n",
       "    <tr>\n",
       "      <th>diagnosis</th>\n",
       "      <th>absent</th>\n",
       "      <th>present</th>\n",
       "      <th>absent</th>\n",
       "      <th>present</th>\n",
       "    </tr>\n",
       "    <tr>\n",
       "      <th>age-range</th>\n",
       "      <th></th>\n",
       "      <th></th>\n",
       "      <th></th>\n",
       "      <th></th>\n",
       "    </tr>\n",
       "  </thead>\n",
       "  <tbody>\n",
       "    <tr>\n",
       "      <th>0-40</th>\n",
       "      <td>7</td>\n",
       "      <td>24</td>\n",
       "      <td>7</td>\n",
       "      <td>45</td>\n",
       "    </tr>\n",
       "    <tr>\n",
       "      <th>40-65</th>\n",
       "      <td>5</td>\n",
       "      <td>23</td>\n",
       "      <td>6</td>\n",
       "      <td>22</td>\n",
       "    </tr>\n",
       "    <tr>\n",
       "      <th>Over 65</th>\n",
       "      <td>7</td>\n",
       "      <td>34</td>\n",
       "      <td>9</td>\n",
       "      <td>30</td>\n",
       "    </tr>\n",
       "  </tbody>\n",
       "</table>\n",
       "</div>"
      ],
      "text/plain": [
       "sex-label female           male        \n",
       "diagnosis absent present absent present\n",
       "age-range                              \n",
       "0-40           7      24      7      45\n",
       "40-65          5      23      6      22\n",
       "Over 65        7      34      9      30"
      ]
     },
     "execution_count": 6,
     "metadata": {},
     "output_type": "execute_result"
    }
   ],
   "source": [
    "import pandas as pd\n",
    "\n",
    "def aggregate_factors(data):\n",
    "    \"\"\"Gather demographics categorical factors from data:\n",
    "    - Age will be mapped to three Age Ranges\n",
    "    - New Diagnosis column for binary outcome of the study (and better plotting legends)\n",
    "    - New Sex-Label column to better decode the `sex` column in data.\n",
    "    \"\"\"\n",
    "    info = pd.DataFrame()\n",
    "    info[\"diagnosis\"] = data[\"num\"].map(lambda v: \"present\" if v > 0 else \"absent\")\n",
    "    info[\"sex-label\"] = data[\"sex\"].map({0: \"female\", 1: \"male\"})\n",
    "\n",
    "    age_range = lambda v: \"0-40\" if v < 40 else \"40-65\" if v <= 65 else \"Over 65\"\n",
    "    info[\"age-range\"] = pd.Categorical(data[\"age\"].apply(age_range), \n",
    "                                       categories=[\"0-40\", \"40-65\", \"Over 65\"],\n",
    "                                       ordered=True)\n",
    "    return info\n",
    "\n",
    "def disease_prevalence_per_demographic(data):\n",
    "    cats = aggregate_factors(data)\n",
    "    prevalence_by_demographics = pd.crosstab(\n",
    "        index = cats[\"age-range\"], columns = [cats[\"sex-label\"], cats[\"diagnosis\"]],\n",
    "    )\n",
    "    return prevalence_by_demographics\n",
    "\n",
    "disease_prevalence_per_demographic(mock_data)"
   ]
  },
  {
   "cell_type": "markdown",
   "id": "f9297a62-8049-4639-9746-e620b48a489a",
   "metadata": {},
   "source": [
    "## Step 3. Run code remotely on all datasites"
   ]
  },
  {
   "cell_type": "markdown",
   "id": "261cf7d1-7341-4374-a9a2-df26d0980803",
   "metadata": {},
   "source": [
    "Let's now rewrite our `disease_prevalence_per_demographic` function to be **self-contained**: \n",
    "\n",
    "> All dependencies necessary for the execution must be defined within the body of the function."
   ]
  },
  {
   "cell_type": "code",
   "execution_count": 7,
   "id": "5e477019-ba10-42ba-9fb3-a07c9027407d",
   "metadata": {},
   "outputs": [
    {
     "data": {
      "text/html": [
       "<div class=\"alert-success\" style=\"padding:5px;\"><strong>SyftSuccess</strong>: <pre class=\"alert-success\" style=\"display:inline; font-family:inherit;\">Syft function 'disease_prevalence_per_demographic' successfully created. To add a code request, please create a project using `project = syft.Project(...)`, then use command `project.create_code_request`.</pre></div><br/>"
      ],
      "text/plain": [
       "SyftSuccess: Syft function 'disease_prevalence_per_demographic' successfully created. To add a code request, please create a project using `project = syft.Project(...)`, then use command `project.create_code_request`."
      ]
     },
     "metadata": {},
     "output_type": "display_data"
    },
    {
     "data": {
      "text/html": [
       "<div class=\"alert-success\" style=\"padding:5px;\"><strong>SyftSuccess</strong>: <pre class=\"alert-success\" style=\"display:inline; font-family:inherit;\">Syft function 'disease_prevalence_per_demographic' successfully created. To add a code request, please create a project using `project = syft.Project(...)`, then use command `project.create_code_request`.</pre></div><br/>"
      ],
      "text/plain": [
       "SyftSuccess: Syft function 'disease_prevalence_per_demographic' successfully created. To add a code request, please create a project using `project = syft.Project(...)`, then use command `project.create_code_request`."
      ]
     },
     "metadata": {},
     "output_type": "display_data"
    },
    {
     "data": {
      "text/html": [
       "<div class=\"alert-success\" style=\"padding:5px;\"><strong>SyftSuccess</strong>: <pre class=\"alert-success\" style=\"display:inline; font-family:inherit;\">Syft function 'disease_prevalence_per_demographic' successfully created. To add a code request, please create a project using `project = syft.Project(...)`, then use command `project.create_code_request`.</pre></div><br/>"
      ],
      "text/plain": [
       "SyftSuccess: Syft function 'disease_prevalence_per_demographic' successfully created. To add a code request, please create a project using `project = syft.Project(...)`, then use command `project.create_code_request`."
      ]
     },
     "metadata": {},
     "output_type": "display_data"
    },
    {
     "data": {
      "text/html": [
       "<div class=\"alert-success\" style=\"padding:5px;\"><strong>SyftSuccess</strong>: <pre class=\"alert-success\" style=\"display:inline; font-family:inherit;\">Syft function 'disease_prevalence_per_demographic' successfully created. To add a code request, please create a project using `project = syft.Project(...)`, then use command `project.create_code_request`.</pre></div><br/>"
      ],
      "text/plain": [
       "SyftSuccess: Syft function 'disease_prevalence_per_demographic' successfully created. To add a code request, please create a project using `project = syft.Project(...)`, then use command `project.create_code_request`."
      ]
     },
     "metadata": {},
     "output_type": "display_data"
    }
   ],
   "source": [
    "for name, datasite in datasites.items():\n",
    "    # data asset on the DataSite\n",
    "    data_asset = datasite.datasets[\"Heart Disease Dataset\"].assets[\"Heart Study Data\"]  \n",
    "    \n",
    "    @sy.syft_function_single_use(data=data_asset)\n",
    "    def disease_prevalence_per_demographic(data) -> pd.DataFrame:\n",
    "        # third party dependency\n",
    "        import pandas as pd\n",
    "        \n",
    "        def aggregate_factors():\n",
    "            info = pd.DataFrame()\n",
    "            info[\"diagnosis\"] = data[\"num\"].map(lambda v: \"present\" if v > 0 else \"absent\")\n",
    "            info[\"sex-label\"] = data[\"sex\"].map({0: \"female\", 1: \"male\"})\n",
    "        \n",
    "            age_range = lambda v: \"0-40\" if v < 40 else \"40-65\" if v <= 65 else \"Over 65\"\n",
    "            info[\"age-range\"] = pd.Categorical(\n",
    "                data[\"age\"].apply(age_range),\n",
    "                categories=[\"0-40\", \"40-65\", \"Over 65\"],\n",
    "                ordered=True,\n",
    "            )\n",
    "            return info\n",
    "        \n",
    "        cats = aggregate_factors()\n",
    "        prevalence_by_demographics = pd.crosstab(\n",
    "            index = cats[\"age-range\"], columns = [cats[\"sex-label\"], cats[\"diagnosis\"]],\n",
    "        )\n",
    "        return prevalence_by_demographics\n",
    "\n",
    "    # Submit simple code request\n",
    "    datasite.code.request_code_execution(disease_prevalence_per_demographic)"
   ]
  },
  {
   "cell_type": "code",
   "execution_count": 8,
   "id": "b6c72de7-1cc8-47ce-9c77-5bb9fa345250",
   "metadata": {},
   "outputs": [
    {
     "name": "stdout",
     "output_type": "stream",
     "text": [
      "Datasite: Cleveland Clinic\n"
     ]
    },
    {
     "data": {
      "text/html": [
       "<div class=\"alert-success\" style=\"padding:5px;\"><strong>SyftSuccess</strong>: <pre class=\"alert-success\" style=\"display:inline; font-family:inherit;\"> approved</pre></div><br/>"
      ],
      "text/plain": [
       "SyftSuccess: <class 'syft.service.code.user_code.UserCodeStatusCollection'> approved"
      ]
     },
     "metadata": {},
     "output_type": "display_data"
    },
    {
     "name": "stdout",
     "output_type": "stream",
     "text": [
      "Datasite: Hungarian Inst. of Cardiology\n"
     ]
    },
    {
     "data": {
      "text/html": [
       "<div class=\"alert-success\" style=\"padding:5px;\"><strong>SyftSuccess</strong>: <pre class=\"alert-success\" style=\"display:inline; font-family:inherit;\"> approved</pre></div><br/>"
      ],
      "text/plain": [
       "SyftSuccess: <class 'syft.service.code.user_code.UserCodeStatusCollection'> approved"
      ]
     },
     "metadata": {},
     "output_type": "display_data"
    },
    {
     "name": "stdout",
     "output_type": "stream",
     "text": [
      "Datasite: Univ. Hospitals Zurich and Basel\n"
     ]
    },
    {
     "data": {
      "text/html": [
       "<div class=\"alert-success\" style=\"padding:5px;\"><strong>SyftSuccess</strong>: <pre class=\"alert-success\" style=\"display:inline; font-family:inherit;\"> approved</pre></div><br/>"
      ],
      "text/plain": [
       "SyftSuccess: <class 'syft.service.code.user_code.UserCodeStatusCollection'> approved"
      ]
     },
     "metadata": {},
     "output_type": "display_data"
    },
    {
     "name": "stdout",
     "output_type": "stream",
     "text": [
      "Datasite: V.A. Medical Center\n"
     ]
    },
    {
     "data": {
      "text/html": [
       "<div class=\"alert-success\" style=\"padding:5px;\"><strong>SyftSuccess</strong>: <pre class=\"alert-success\" style=\"display:inline; font-family:inherit;\"> approved</pre></div><br/>"
      ],
      "text/plain": [
       "SyftSuccess: <class 'syft.service.code.user_code.UserCodeStatusCollection'> approved"
      ]
     },
     "metadata": {},
     "output_type": "display_data"
    }
   ],
   "source": [
    "# Check status of requests\n",
    "from utils import check_status_last_code_requests\n",
    "\n",
    "check_status_last_code_requests(datasites)"
   ]
  },
  {
   "cell_type": "markdown",
   "id": "bf7018ed-bbf1-404c-b7cf-8e0e7ad264d2",
   "metadata": {
    "editable": true,
    "slideshow": {
     "slide_type": ""
    },
    "tags": []
   },
   "source": [
    "🎉 All requests should be all (automatically) `APPROVED`! (_If that's not the case, check again until are all approved_)"
   ]
  },
  {
   "cell_type": "markdown",
   "id": "c3b37a66-19f6-4c99-82fc-14b606e79543",
   "metadata": {},
   "source": [
    "## Step 4. Gather results from all datasites "
   ]
  },
  {
   "cell_type": "code",
   "execution_count": 9,
   "id": "f5bde330-59be-4f40-b874-3ed4d1b14172",
   "metadata": {},
   "outputs": [],
   "source": [
    "demographics = {}\n",
    "for name, datasite in datasites.items():\n",
    "    data_asset = datasite.datasets[\"Heart Disease Dataset\"].assets[\"Heart Study Data\"]\n",
    "    data_stats = datasite.code.disease_prevalence_per_demographic(data=data_asset).get_from(datasite) # use .get_from() to download the result\n",
    "    demographics[name] = data_stats"
   ]
  },
  {
   "cell_type": "markdown",
   "id": "65a99e17-5fa8-4d5d-a22a-0d5ea637d9e7",
   "metadata": {
    "editable": true,
    "slideshow": {
     "slide_type": ""
    },
    "tags": []
   },
   "source": [
    "Let's now compare statistics across the **four datasets**, and plot the results for clearer insights and comparisons:"
   ]
  },
  {
   "cell_type": "code",
   "execution_count": 10,
   "id": "15f3459e-c29e-4986-9da5-f3bf5c2aa720",
   "metadata": {},
   "outputs": [
    {
     "data": {
      "image/png": "[encoded data removed]",
      "text/plain": [
       "<Figure size 1000x800 with 4 Axes>"
      ]
     },
     "metadata": {},
     "output_type": "display_data"
    }
   ],
   "source": [
    "# Let's plot the result for better visualisation\n",
    "from matplotlib import pyplot as plt\n",
    "from itertools import product\n",
    "\n",
    "def plot_disease_prevalence(axis, data, name) -> None:\n",
    "    data.plot.bar(ax=axis)\n",
    "    for container in axis.containers:\n",
    "        axis.bar_label(container)\n",
    "    axis.set_ylim([0, 130])\n",
    "    axis.set_title(f\"Disease Prevalence (per Demographic) in {name}\", fontsize = \"medium\")\n",
    "\n",
    "fig, axes = plt.subplots(2, 2, figsize=(10,8))\n",
    "\n",
    "for coords, (name, data) in zip(product(range(2), repeat=2), demographics.items()):\n",
    "    plot_disease_prevalence(axis=axes[*coords], data=data, name=name)\n",
    "\n",
    "# Adjust layout to prevent overlap\n",
    "plt.tight_layout()\n",
    "plt.show()\n"
   ]
  },
  {
   "cell_type": "markdown",
   "id": "b9b1ae87-753b-4dcd-b6dd-869b9258bc0a",
   "metadata": {},
   "source": [
    "## Conclusions"
   ]
  },
  {
   "cell_type": "markdown",
   "id": "0ff0d63a-6968-4bef-8bb4-b652bce77b6f",
   "metadata": {},
   "source": [
    "Data distributions across the four datasets/datasites is very different - which means that we may expect different results when training classifiers on each dataset.\n",
    "\n",
    "Moreover, apart from the dataset in the \"Cleveland Clinic\", we have discovered that `age` is **not** likely to be a good indicator for data partitioning, as data is too skew, if combined with other demographics!\n",
    "\n",
    "Let's now continue our analyses with some Machine learning modelling!\n",
    "\n",
    "### Final Remarks\n",
    "\n",
    "In this example, the **true** statistics about the data are returned. This is a fair assumption, considering the data we are working with. However, in more realistic scenarios, additional **PET**s (**P**rivacy **E**nhancing **T**echnologies) could be used to better protect the privacy of the data. In fact, these are exactly the types of query that techniques like [Differential Privacy](https://opendp.org/about) can help with! \n",
    "\n",
    "I will definitely show you how to use `DP` with PySyft in another tutorial! But in the meantime, please feel free to try it yourself, and then send a new [PR](https://github.com/OpenMined/syft-heart-disease-tutorial/pulls) to contribute to this tutorial!"
   ]
  }
 ],
 "metadata": {
  "kernelspec": {
   "display_name": "Python 3 (ipykernel)",
   "language": "python",
   "name": "python3"
  },
  "language_info": {
   "codemirror_mode": {
    "name": "ipython",
    "version": 3
   },
   "file_extension": ".py",
   "mimetype": "text/x-python",
   "name": "python",
   "nbconvert_exporter": "python",
   "pygments_lexer": "ipython3",
   "version": "3.12.3"
  }
 },
 "nbformat": 4,
 "nbformat_minor": 5
}
